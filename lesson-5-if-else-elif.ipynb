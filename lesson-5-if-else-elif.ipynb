{
 "cells": [
  {
   "cell_type": "markdown",
   "metadata": {},
   "source": [
    "# Lesson 5\n",
    "## If, Else and Elif Statements\n",
    "An `if` statement can be used to conditionally execute code, depending on whether the \"if\" statement's condition is True or False.\n",
    "\n",
    "An `elif` (that is, \"else if\") statement can follow an if statement. Its block executes if its condition is True and all the previous conditions have been False.\n",
    "\n",
    "An `else` statement comes at the end. Its block is executed if all of the previous conditions have been False.\n",
    "The values `0` (integer), `0.0` (float), and `‘‘` (the empty string) are considered to be \"falsey\" values. When used in conditions they are considered False. You can always see for yourself which values are truthy or falsey by passing them to the `bool()` function."
   ]
  },
  {
   "cell_type": "code",
   "execution_count": 1,
   "metadata": {},
   "outputs": [
    {
     "name": "stdout",
     "output_type": "stream",
     "text": [
      "Hi Alice\n",
      "Done\n"
     ]
    }
   ],
   "source": [
    "# Lesson code\n",
    "name = 'Alice'\n",
    "\n",
    "if name == 'Alice':\n",
    "    print('Hi Alice')\n",
    "print('Done')"
   ]
  },
  {
   "cell_type": "code",
   "execution_count": null,
   "metadata": {},
   "outputs": [],
   "source": []
  }
 ],
 "metadata": {
  "kernelspec": {
   "display_name": "Python 3.8.2 ('data-science')",
   "language": "python",
   "name": "python3"
  },
  "language_info": {
   "codemirror_mode": {
    "name": "ipython",
    "version": 3
   },
   "file_extension": ".py",
   "mimetype": "text/x-python",
   "name": "python",
   "nbconvert_exporter": "python",
   "pygments_lexer": "ipython3",
   "version": "3.8.2"
  },
  "orig_nbformat": 4,
  "vscode": {
   "interpreter": {
    "hash": "ba1783fb3cacb2bb373154d246c7d8d6db268fa89656c8b68eb203727e1bbcf5"
   }
  }
 },
 "nbformat": 4,
 "nbformat_minor": 2
}
