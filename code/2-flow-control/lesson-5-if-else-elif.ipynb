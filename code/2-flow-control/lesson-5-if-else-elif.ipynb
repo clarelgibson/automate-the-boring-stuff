{
 "cells": [
  {
   "cell_type": "markdown",
   "metadata": {},
   "source": [
    "# Lesson 5\n",
    "## If, Else and Elif Statements\n",
    "An `if` statement can be used to conditionally execute code, depending on whether the \"if\" statement's condition is True or False.\n",
    "\n",
    "An `elif` (that is, \"else if\") statement can follow an if statement. Its block executes if its condition is True and all the previous conditions have been False.\n",
    "\n",
    "An `else` statement comes at the end. Its block is executed if all of the previous conditions have been False.\n",
    "The values `0` (integer), `0.0` (float), and `‘‘` (the empty string) are considered to be \"falsey\" values. When used in conditions they are considered False. You can always see for yourself which values are truthy or falsey by passing them to the `bool()` function."
   ]
  },
  {
   "cell_type": "code",
   "execution_count": 1,
   "metadata": {},
   "outputs": [
    {
     "name": "stdout",
     "output_type": "stream",
     "text": [
      "Hi Alice\n",
      "Done\n"
     ]
    }
   ],
   "source": [
    "# Lesson code first example\n",
    "name = 'Alice'\n",
    "\n",
    "if name == 'Alice':\n",
    "    print('Hi Alice')\n",
    "print('Done')"
   ]
  },
  {
   "cell_type": "markdown",
   "metadata": {},
   "source": [
    "In the example above, the condition in the `if` statement (`name == 'Alice'`) evaluates to `true`, therefore the indented statement is executed. But what if the condition evaluates to `false`?"
   ]
  },
  {
   "cell_type": "code",
   "execution_count": 2,
   "metadata": {},
   "outputs": [
    {
     "name": "stdout",
     "output_type": "stream",
     "text": [
      "Done\n"
     ]
    }
   ],
   "source": [
    "# What if we change name to something else\n",
    "name = 'Bob'\n",
    "\n",
    "if name == 'Alice':\n",
    "    print('Hi Alice')\n",
    "print('Done')"
   ]
  },
  {
   "cell_type": "markdown",
   "metadata": {},
   "source": [
    "Now the condition in the `if` statement (`name == 'Bob'`) evaluates to `false` so the indented statement is skipped. The indented code is known as a **block**.\n",
    "\n",
    "We can also use an `else` statement to specify code that should be run when the condition evaluates to `false`."
   ]
  },
  {
   "cell_type": "code",
   "execution_count": 3,
   "metadata": {},
   "outputs": [
    {
     "name": "stdout",
     "output_type": "stream",
     "text": [
      "Access granted.\n"
     ]
    }
   ],
   "source": [
    "# Using an else statement\n",
    "password = 'swordfish'\n",
    "\n",
    "if password == 'swordfish':\n",
    "    print('Access granted.')\n",
    "else:\n",
    "    print('Wrong password.')"
   ]
  },
  {
   "cell_type": "code",
   "execution_count": 4,
   "metadata": {},
   "outputs": [
    {
     "name": "stdout",
     "output_type": "stream",
     "text": [
      "Wrong password.\n"
     ]
    }
   ],
   "source": [
    "# What if the condition is false?\n",
    "password = 'rosebud'\n",
    "\n",
    "if password == 'swordfish':\n",
    "    print('Access granted.')\n",
    "else:\n",
    "    print('Wrong password.')"
   ]
  },
  {
   "cell_type": "markdown",
   "metadata": {},
   "source": [
    "Finally we can use one or more `elif` statements to evaluate if the condition is `true` and all previous statements have been `false`."
   ]
  },
  {
   "cell_type": "code",
   "execution_count": 5,
   "metadata": {},
   "outputs": [
    {
     "name": "stdout",
     "output_type": "stream",
     "text": [
      "Unlike you, Alice is not an undead, immortal vampire.\n"
     ]
    }
   ],
   "source": [
    "# Elif example\n",
    "name = 'Bob'\n",
    "age = 3000\n",
    "\n",
    "if name == 'Alice':\n",
    "    print('Hi Alice')\n",
    "elif age < 12:\n",
    "    print('You are not Alice, kiddo.')\n",
    "elif age > 2000:\n",
    "    print('Unlike you, Alice is not an undead, immortal vampire.')\n",
    "elif age > 100:\n",
    "    print('You are not Alice, Granny.')"
   ]
  },
  {
   "cell_type": "code",
   "execution_count": 7,
   "metadata": {},
   "outputs": [
    {
     "name": "stdout",
     "output_type": "stream",
     "text": [
      "Enter a name.\n",
      "You did not enter a name.\n"
     ]
    }
   ],
   "source": [
    "# Truthy and Falsey values\n",
    "print('Enter a name.')\n",
    "name = input()\n",
    "\n",
    "if name:\n",
    "    print('Thank you for entering a name.')\n",
    "else:\n",
    "    print('You did not enter a name.')"
   ]
  }
 ],
 "metadata": {
  "kernelspec": {
   "display_name": "Python 3.8.2 ('data-science')",
   "language": "python",
   "name": "python3"
  },
  "language_info": {
   "codemirror_mode": {
    "name": "ipython",
    "version": 3
   },
   "file_extension": ".py",
   "mimetype": "text/x-python",
   "name": "python",
   "nbconvert_exporter": "python",
   "pygments_lexer": "ipython3",
   "version": "3.8.2"
  },
  "orig_nbformat": 4,
  "vscode": {
   "interpreter": {
    "hash": "ba1783fb3cacb2bb373154d246c7d8d6db268fa89656c8b68eb203727e1bbcf5"
   }
  }
 },
 "nbformat": 4,
 "nbformat_minor": 2
}
