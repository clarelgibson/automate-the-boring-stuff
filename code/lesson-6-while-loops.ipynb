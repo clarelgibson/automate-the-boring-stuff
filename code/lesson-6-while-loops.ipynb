{
 "cells": [
  {
   "cell_type": "markdown",
   "metadata": {},
   "source": [
    "# Lesson 6\n",
    "## While Loops\n",
    "\n",
    "* When the execution reaches the end of a `while` statement's block, it jumps back to the start to re-check the condition.\n",
    "* You can press `ctrl-c` to interrupt an infinite loop. This hotkey stops Python programs.\n",
    "* A `break` statement causes the execution to immediately leave the loop, without re-checking the condition.\n",
    "* A `continue` statement causes the execution to immediate jump back to the start of the loop and re-check the condition."
   ]
  },
  {
   "cell_type": "code",
   "execution_count": 1,
   "metadata": {},
   "outputs": [
    {
     "name": "stdout",
     "output_type": "stream",
     "text": [
      "Hello world!\n",
      "Hello world!\n",
      "Hello world!\n",
      "Hello world!\n",
      "Hello world!\n"
     ]
    }
   ],
   "source": [
    "# While loop example\n",
    "spam = 0\n",
    "\n",
    "while spam < 5:\n",
    "    print('Hello world!')\n",
    "    spam = spam + 1"
   ]
  },
  {
   "cell_type": "code",
   "execution_count": 2,
   "metadata": {},
   "outputs": [
    {
     "name": "stdout",
     "output_type": "stream",
     "text": [
      "Please type your name.\n",
      "Please type your name.\n",
      "Please type your name.\n",
      "Thank you!\n"
     ]
    }
   ],
   "source": [
    "# Another example\n",
    "name = ''\n",
    "\n",
    "while name != 'your name':\n",
    "    print('Please type your name.')\n",
    "    name = input()\n",
    "print('Thank you!')"
   ]
  },
  {
   "cell_type": "code",
   "execution_count": 3,
   "metadata": {},
   "outputs": [
    {
     "name": "stdout",
     "output_type": "stream",
     "text": [
      "Please type your name.\n",
      "Please type your name.\n",
      "Please type your name.\n",
      "Please type your name.\n",
      "Thank you!\n"
     ]
    }
   ],
   "source": [
    "# Adding a break statement\n",
    "name = ''\n",
    "\n",
    "while True:\n",
    "    print('Please type your name.')\n",
    "    name = input()\n",
    "    if name == 'your name':\n",
    "        break\n",
    "print('Thank you!')"
   ]
  },
  {
   "cell_type": "code",
   "execution_count": 4,
   "metadata": {},
   "outputs": [
    {
     "name": "stdout",
     "output_type": "stream",
     "text": [
      "spam is 1\n",
      "spam is 2\n",
      "spam is 4\n",
      "spam is 5\n"
     ]
    }
   ],
   "source": [
    "# Adding a continue statement\n",
    "spam = 0\n",
    "\n",
    "while spam < 5:\n",
    "    spam = spam + 1\n",
    "    if spam == 3:\n",
    "        continue\n",
    "    print('spam is ' + str(spam))"
   ]
  }
 ],
 "metadata": {
  "kernelspec": {
   "display_name": "Python 3.8.2 ('data-science')",
   "language": "python",
   "name": "python3"
  },
  "language_info": {
   "codemirror_mode": {
    "name": "ipython",
    "version": 3
   },
   "file_extension": ".py",
   "mimetype": "text/x-python",
   "name": "python",
   "nbconvert_exporter": "python",
   "pygments_lexer": "ipython3",
   "version": "3.8.2"
  },
  "orig_nbformat": 4,
  "vscode": {
   "interpreter": {
    "hash": "ba1783fb3cacb2bb373154d246c7d8d6db268fa89656c8b68eb203727e1bbcf5"
   }
  }
 },
 "nbformat": 4,
 "nbformat_minor": 2
}
